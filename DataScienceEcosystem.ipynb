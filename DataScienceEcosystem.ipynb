{
 "cells": [
  {
   "cell_type": "markdown",
   "id": "7a3c0501-45c6-4fa4-af21-0f9499d68b24",
   "metadata": {},
   "source": [
    "# Data Science Tools and Ecosystem"
   ]
  },
  {
   "cell_type": "markdown",
   "id": "955fff03-3a42-487b-b034-e492b149f72a",
   "metadata": {},
   "source": [
    "In this notebook, Data Science Tools and Ecosystem are summarized."
   ]
  },
  {
   "cell_type": "markdown",
   "id": "37122a1b-9401-4bd0-ac85-3ea105e9c096",
   "metadata": {},
   "source": [
    "**Objectives:**\n",
    "- List popular languages for Data Science\n",
    "- Common libraries used by Data Scientists\n",
    "- Data Science tools\n",
    "- Examples of arithmetic expressions in Python\n",
    "\n",
    "## Author\n",
    "Jefferson"
   ]
  },
  {
   "cell_type": "markdown",
   "id": "c661f034-c493-4d57-b5a4-ac006a541a00",
   "metadata": {},
   "source": [
    "Some of the popular languages that Data Scientists use are:\n",
    "1. Python\n",
    "2. R\n",
    "3. Java\n",
    "4. C++"
   ]
  },
  {
   "cell_type": "markdown",
   "id": "07d5ccb1-493c-4aa8-a755-ebfb893c5bff",
   "metadata": {},
   "source": [
    "Some of the commonly used libraries used by Data Scientists include:\n",
    "1. TensorFlow\n",
    "2. Pandas\n",
    "3. SciPy\n",
    "4. Keras"
   ]
  },
  {
   "cell_type": "markdown",
   "id": "5e29fde1-a546-41bc-b413-cfd401e6d034",
   "metadata": {},
   "source": [
    "|Data Science Tools|\n",
    "|------------------|\n",
    "|Jupyter|\n",
    "|Spider|\n",
    "|Hadoop|"
   ]
  },
  {
   "cell_type": "markdown",
   "id": "fc477d33-43ee-4b78-94d7-46ab51ebef48",
   "metadata": {},
   "source": [
    "### Below are a few examples of evaluating arithmetic expressions in Python\n",
    "(8+9), (8-3), (1+3)"
   ]
  },
  {
   "cell_type": "code",
   "execution_count": 2,
   "id": "75e3e38f-b35e-412b-9888-483d0224ba6d",
   "metadata": {},
   "outputs": [
    {
     "data": {
      "text/plain": [
       "17"
      ]
     },
     "execution_count": 2,
     "metadata": {},
     "output_type": "execute_result"
    }
   ],
   "source": [
    "#This a simple arithmetic expression to mutiply then add integers\n",
    "(3*4)+5"
   ]
  },
  {
   "cell_type": "code",
   "execution_count": 3,
   "id": "2c6a18b4-fc47-4982-9548-d59e9d1b32e2",
   "metadata": {},
   "outputs": [
    {
     "data": {
      "text/plain": [
       "3.3333333333333335"
      ]
     },
     "execution_count": 3,
     "metadata": {},
     "output_type": "execute_result"
    }
   ],
   "source": [
    "#This will convert 200 minutes to hours by diving by 60\n",
    "(200/60)"
   ]
  },
  {
   "cell_type": "code",
   "execution_count": null,
   "id": "f2e508d1-88ae-40fe-a451-78280f475e8e",
   "metadata": {},
   "outputs": [],
   "source": []
  }
 ],
 "metadata": {
  "kernelspec": {
   "display_name": "Python 3 (ipykernel)",
   "language": "python",
   "name": "python3"
  },
  "language_info": {
   "codemirror_mode": {
    "name": "ipython",
    "version": 3
   },
   "file_extension": ".py",
   "mimetype": "text/x-python",
   "name": "python",
   "nbconvert_exporter": "python",
   "pygments_lexer": "ipython3",
   "version": "3.12.9"
  }
 },
 "nbformat": 4,
 "nbformat_minor": 5
}
